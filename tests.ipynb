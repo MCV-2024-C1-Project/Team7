{
 "cells": [
  {
   "cell_type": "markdown",
   "id": "cd47c2da",
   "metadata": {},
   "source": [
    "### Imports"
   ]
  },
  {
   "cell_type": "code",
   "execution_count": 2,
   "id": "f83987ea",
   "metadata": {},
   "outputs": [],
   "source": [
    "import cv2\n",
    "import os\n",
    "import pickle\n",
    "import numpy as np\n",
    "import matplotlib.pyplot as plt"
   ]
  },
  {
   "cell_type": "markdown",
   "id": "a5a3bc33",
   "metadata": {},
   "source": [
    "### Constants"
   ]
  },
  {
   "cell_type": "code",
   "execution_count": 7,
   "id": "741e0e56",
   "metadata": {},
   "outputs": [],
   "source": [
    "query_dir = \"./data/qsd1_w3/\"\n",
    "bbdd_dir = \"./data/BBDD/\""
   ]
  },
  {
   "cell_type": "markdown",
   "id": "4e353e9a",
   "metadata": {},
   "source": [
    "### Helper functions"
   ]
  },
  {
   "cell_type": "code",
   "execution_count": 5,
   "id": "84ea4080",
   "metadata": {},
   "outputs": [],
   "source": [
    "# images.py\n",
    "def load_images_from_directory(directory):\n",
    "    images = []\n",
    "    # List all files in the directory\n",
    "    for filename in os.listdir(directory):\n",
    "        # Filter only image files based on file extensions\n",
    "        if filename.endswith(('.jpg')):\n",
    "            # Full path to the image file\n",
    "            img_path = os.path.join(directory, filename)\n",
    "            # Read the image using OpenCV\n",
    "            img = cv2.imread(img_path)\n",
    "            # Check if the image was loaded successfully\n",
    "            if img is not None:\n",
    "                images.append(img)\n",
    "            else:\n",
    "                print(f\"Failed to load image: {img_path}\")\n",
    "    return images"
   ]
  },
  {
   "cell_type": "markdown",
   "id": "73783ffa",
   "metadata": {},
   "source": [
    "### Main functions"
   ]
  },
  {
   "cell_type": "code",
   "execution_count": null,
   "id": "0799ed21",
   "metadata": {},
   "outputs": [],
   "source": [
    "def generate_submission_qst2(query_dir, bbdd_dir):\n",
    "    \n",
    "    # LOAD DATA\n",
    "    # =======================================================\n",
    "    \n",
    "    # Load bbdd images\n",
    "    bbdd_images = load_images_from_directory(bbdd_dir)\n",
    "    \n",
    "    # Load query images\n",
    "    query_images = load_images_from_directory(query_dir)\n",
    "        \n",
    "    \n",
    "    # DETECT PAINTINGS IN QUERIES\n",
    "    # ========================================================\n",
    "    \n",
    "    detected_paintings_folder = \"data/detected_paintings\"\n",
    "    \n",
    "    # Painting detection code/function HERE\n",
    "    \n",
    "    # All images are saved in the same temporary directory, in order (/detected_paintings)\n",
    "    # A list is saved indicating the number of paintings per image (paintings_per_image.pkl)\n",
    "    \n",
    "    # Load list containing paintings per image\n",
    "    with open('paintings_per_image.pkl', 'rb') as file:\n",
    "        paintings_per_image = pickle.load(file)\n",
    "    \n",
    "    \n",
    "    # REMOVE NOISE FROM QUERY IMAGES\n",
    "    # =========================================================\n",
    "    \n",
    "    denoised_paintings_folder = 'data/denoised_paintings'\n",
    "    \n",
    "    # Using denoising method 5\n",
    "    create_denoised_dataset(\n",
    "        noisy_dataset_path = detected_paintings_folder,\n",
    "        denoised_dataset_path = denoised_paintings_folder,\n",
    "        method='gaussian',\n",
    "        lowpass_params={'ksize': 3},\n",
    "        highpass=True,\n",
    "        noise_method='laplacian',\n",
    "        noise_threshold=35.35\n",
    "    )\n",
    "    \n",
    "    \n",
    "    # EXTRACT TEXTURE FEATURES FROM DENOISED QUERIES AND BBDD\n",
    "    # =========================================================\n",
    "    \n",
    "    # Using DCT with best parameters\n",
    "    color = \"V\"\n",
    "    distance_measure = \"Cosine\"\n",
    "    block_size = 64\n",
    "    num_coefs = 64\n",
    "\n",
    "    # Load denoised query paintings\n",
    "    query_images = load_and_preprocess_images(denoised_paintings_folder, extension=\".jpg\")\n",
    "\n",
    "    # Transform color space of the images\n",
    "    query_images_color = transform_images_color_space(query_images, color_space=color)\n",
    "    bbdd_images_color = transform_images_color_space(bbdd_images, color_space=color)\n",
    "\n",
    "    # Compute the DCT of the images\n",
    "    query_dct_blocks = compute_images_block_dct(query_images_color, block_size)\n",
    "    bbdd_dct_blocks = compute_images_block_dct(bbdd_images_color, block_size)\n",
    "\n",
    "    # Extract first K coefficients of images DCTs\n",
    "    query_feature_vectors = extract_dct_coefficients_zigzag(query_dct_blocks, num_coefs, block_size)\n",
    "    bbdd_feature_vectors = extract_dct_coefficients_zigzag(bbdd_dct_blocks, num_coefs, block_size)\n",
    "    \n",
    "    \n",
    "    # CALCULATE DISTANCES AND ORDER RESULTS\n",
    "    # =========================================================\n",
    "    \n",
    "    # Calculate distance matrix\n",
    "    distance_matrix = create_distance_matrix_vectors(query_feature_vectors, \n",
    "                                                     bbdd_feature_vectors,\n",
    "                                                     distance_measure)\n",
    "    # Generate sorted results\n",
    "    results = generate_results(distance_matrix, distance_measure)\n",
    "    \n",
    "    \n",
    "    # GENERATE SUBMISSION\n",
    "    # =========================================================\n",
    "    \n",
    "    # Top K best results\n",
    "    k=10\n",
    "    \n",
    "    # Extracting the top K best results from each prediction\n",
    "    results_topK = np.array(results)[:,:k].tolist()\n",
    "    \n",
    "    # Final sumbission list of lists of lists\n",
    "    submission = []\n",
    "    \n",
    "    i = 0\n",
    "    for num_paintings in paintings_per_image:\n",
    "        if num_paintings == 1:\n",
    "            submission.append([results_topK[i]])\n",
    "            i += 1\n",
    "        elif num_paintings == 2:\n",
    "            submission.append([results_topK[i], results_topK[i+1]])\n",
    "            i += 2"
   ]
  },
  {
   "cell_type": "code",
   "execution_count": null,
   "id": "6141f869",
   "metadata": {},
   "outputs": [],
   "source": []
  },
  {
   "cell_type": "code",
   "execution_count": 9,
   "id": "70cfc960",
   "metadata": {},
   "outputs": [
    {
     "data": {
      "text/plain": [
       "2"
      ]
     },
     "execution_count": 9,
     "metadata": {},
     "output_type": "execute_result"
    }
   ],
   "source": [
    "a = 0\n",
    "a += 2\n",
    "a"
   ]
  },
  {
   "cell_type": "code",
   "execution_count": 12,
   "id": "1d6fe30f",
   "metadata": {},
   "outputs": [],
   "source": [
    "a = [1]\n",
    "a.append([1])"
   ]
  },
  {
   "cell_type": "code",
   "execution_count": 13,
   "id": "4e95d6f5",
   "metadata": {},
   "outputs": [
    {
     "data": {
      "text/plain": [
       "[1, [1]]"
      ]
     },
     "execution_count": 13,
     "metadata": {},
     "output_type": "execute_result"
    }
   ],
   "source": [
    "a"
   ]
  },
  {
   "cell_type": "code",
   "execution_count": 9,
   "id": "18a55942",
   "metadata": {},
   "outputs": [],
   "source": [
    "with open('result.pkl', 'rb') as file:\n",
    "    data = pickle.load(file)"
   ]
  },
  {
   "cell_type": "code",
   "execution_count": 37,
   "id": "880a6fa2",
   "metadata": {},
   "outputs": [
    {
     "data": {
      "text/plain": [
       "[[186, 236, 1, 16, 161, 65, 194, 97, 250, 278],\n",
       " [1, 194, 186, 97, 250, 201, 184, 165, 182, 65]]"
      ]
     },
     "execution_count": 37,
     "metadata": {},
     "output_type": "execute_result"
    }
   ],
   "source": [
    "data[29]"
   ]
  },
  {
   "cell_type": "code",
   "execution_count": null,
   "id": "5f72db41",
   "metadata": {},
   "outputs": [],
   "source": [
    "# 2 al revés\n",
    "# 5 bad\n",
    "# 6 al revés\n",
    "# 7 al revés\n",
    "# 11 al revés"
   ]
  },
  {
   "cell_type": "code",
   "execution_count": null,
   "id": "db598b45",
   "metadata": {},
   "outputs": [],
   "source": []
  },
  {
   "cell_type": "code",
   "execution_count": null,
   "id": "5ece74b7",
   "metadata": {},
   "outputs": [],
   "source": []
  },
  {
   "cell_type": "code",
   "execution_count": null,
   "id": "5dc0d82c",
   "metadata": {},
   "outputs": [],
   "source": []
  },
  {
   "cell_type": "code",
   "execution_count": 3,
   "id": "5e366bdf",
   "metadata": {},
   "outputs": [],
   "source": [
    "with open('./data/paintings_per_image.pkl', 'rb') as file:\n",
    "    data = pickle.load(file)"
   ]
  },
  {
   "cell_type": "code",
   "execution_count": 8,
   "id": "efe26e54",
   "metadata": {},
   "outputs": [
    {
     "data": {
      "text/plain": [
       "[1,\n",
       " 1,\n",
       " 2,\n",
       " 1,\n",
       " 1,\n",
       " 2,\n",
       " 2,\n",
       " 2,\n",
       " 1,\n",
       " 1,\n",
       " 1,\n",
       " 2,\n",
       " 2,\n",
       " 1,\n",
       " 1,\n",
       " 1,\n",
       " 1,\n",
       " 1,\n",
       " 1,\n",
       " 2,\n",
       " 1,\n",
       " 1,\n",
       " 1,\n",
       " 1,\n",
       " 1,\n",
       " 1,\n",
       " 1,\n",
       " 1,\n",
       " 1,\n",
       " 2]"
      ]
     },
     "execution_count": 8,
     "metadata": {},
     "output_type": "execute_result"
    }
   ],
   "source": [
    "data"
   ]
  },
  {
   "cell_type": "code",
   "execution_count": null,
   "id": "042cdadf",
   "metadata": {},
   "outputs": [],
   "source": []
  }
 ],
 "metadata": {
  "kernelspec": {
   "display_name": "Python 3",
   "language": "python",
   "name": "python3"
  },
  "language_info": {
   "codemirror_mode": {
    "name": "ipython",
    "version": 3
   },
   "file_extension": ".py",
   "mimetype": "text/x-python",
   "name": "python",
   "nbconvert_exporter": "python",
   "pygments_lexer": "ipython3",
   "version": "3.8.8"
  }
 },
 "nbformat": 4,
 "nbformat_minor": 5
}
