{
 "cells": [
  {
   "cell_type": "markdown",
   "id": "a9669086",
   "metadata": {},
   "source": [
    "## DCT"
   ]
  },
  {
   "cell_type": "code",
   "execution_count": 1,
   "id": "47ee966e",
   "metadata": {},
   "outputs": [],
   "source": [
    "import os\n",
    "import pickle\n",
    "from src.utils.ml_metrics import mapk\n",
    "from src.utils.distance_matrix import generate_results, create_distance_matrix_vectors\n",
    "from src.utils.images import load_and_preprocess_images, transform_images_color_space, load_images_from_directory\n",
    "from src.utils.DCT import compute_images_block_dct, extract_dct_coefficients_zigzag"
   ]
  },
  {
   "cell_type": "markdown",
   "id": "c66d8727",
   "metadata": {},
   "source": [
    "### Best parameters - No noise (qsd1_w3/non_augmented)"
   ]
  },
  {
   "cell_type": "code",
   "execution_count": 19,
   "id": "79f52716",
   "metadata": {
    "scrolled": false
   },
   "outputs": [
    {
     "name": "stdout",
     "output_type": "stream",
     "text": [
      "MAPK@1: 1.0 -- MAPK@5 1.0\n"
     ]
    }
   ],
   "source": [
    "# Images path\n",
    "query_folder = \"./data/qsd1_w3/non_augmented/\"\n",
    "bbdd_folder = \"./data/BBDD\"\n",
    "\n",
    "# Best parameters\n",
    "color = \"V\"\n",
    "distance_measure = \"Cosine\"\n",
    "block_size = 64\n",
    "num_coefs = 64\n",
    "\n",
    "# Load images\n",
    "query_images = load_and_preprocess_images(query_folder, extension=\".jpg\")\n",
    "bbdd_images = load_and_preprocess_images(bbdd_folder, extension=\".jpg\")\n",
    "\n",
    "# Load groundtruth\n",
    "gt_dir = os.path.join(query_folder, 'gt_corresps.pkl')\n",
    "with open(gt_dir, 'rb') as reader:\n",
    "    ground_truth = pickle.load(reader)\n",
    "\n",
    "# Transform color space of the images\n",
    "query_images_color = transform_images_color_space(query_images, color_space=color)\n",
    "bbdd_images_color = transform_images_color_space(bbdd_images, color_space=color)\n",
    "\n",
    "# Compute the DCT of the images\n",
    "query_dct_blocks = compute_images_block_dct(query_images_color, block_size)\n",
    "bbdd_dct_blocks = compute_images_block_dct(bbdd_images_color, block_size)\n",
    "\n",
    "# Extract first K coefficients of images DCTs\n",
    "query_feature_vectors = extract_dct_coefficients_zigzag(query_dct_blocks, num_coefs, block_size)\n",
    "bbdd_feature_vectors = extract_dct_coefficients_zigzag(bbdd_dct_blocks, num_coefs, block_size)\n",
    "\n",
    "# Calculate distance matrix\n",
    "distance_matrix = create_distance_matrix_vectors(query_feature_vectors, \n",
    "                                                 bbdd_feature_vectors,\n",
    "                                                 distance_measure)\n",
    "# Generate sorted results\n",
    "results = generate_results(distance_matrix, distance_measure)\n",
    "\n",
    "# Calculate metrics\n",
    "mapk_val_1 = mapk(ground_truth, results, 1)\n",
    "mapk_val_5 = mapk(ground_truth, results, 5)\n",
    "\n",
    "print(\"MAPK@1:\", mapk_val_1, \"-- MAPK@5\", mapk_val_5)"
   ]
  },
  {
   "cell_type": "markdown",
   "id": "c6511877",
   "metadata": {},
   "source": [
    "### Best parameters - Noise (qsd1_w3/)"
   ]
  },
  {
   "cell_type": "code",
   "execution_count": 20,
   "id": "379eca70",
   "metadata": {},
   "outputs": [
    {
     "name": "stdout",
     "output_type": "stream",
     "text": [
      "MAPK@1: 1.0 -- MAPK@5 1.0\n"
     ]
    }
   ],
   "source": [
    "# Images path\n",
    "query_folder = \"./data/qsd1_w3/\"\n",
    "bbdd_folder = \"./data/BBDD\"\n",
    "\n",
    "# Best parameters\n",
    "color = \"V\"\n",
    "distance_measure = \"Cosine\"\n",
    "block_size = 64\n",
    "num_coefs = 64\n",
    "\n",
    "# Load images\n",
    "query_images = load_and_preprocess_images(query_folder, extension=\".jpg\")\n",
    "bbdd_images = load_and_preprocess_images(bbdd_folder, extension=\".jpg\")\n",
    "\n",
    "# Load groundtruth\n",
    "gt_dir = os.path.join(query_folder, 'gt_corresps.pkl')\n",
    "with open(gt_dir, 'rb') as reader:\n",
    "    ground_truth = pickle.load(reader)\n",
    "\n",
    "# Transform color space of the images\n",
    "query_images_color = transform_images_color_space(query_images, color_space=color)\n",
    "bbdd_images_color = transform_images_color_space(bbdd_images, color_space=color)\n",
    "\n",
    "# Compute the DCT of the images\n",
    "query_dct_blocks = compute_images_block_dct(query_images_color, block_size)\n",
    "bbdd_dct_blocks = compute_images_block_dct(bbdd_images_color, block_size)\n",
    "\n",
    "# Extract first K coefficients of images DCTs\n",
    "query_feature_vectors = extract_dct_coefficients_zigzag(query_dct_blocks, num_coefs, block_size)\n",
    "bbdd_feature_vectors = extract_dct_coefficients_zigzag(bbdd_dct_blocks, num_coefs, block_size)\n",
    "\n",
    "# Calculate distance matrix\n",
    "distance_matrix = create_distance_matrix_vectors(query_feature_vectors, \n",
    "                                                 bbdd_feature_vectors,\n",
    "                                                 distance_measure)\n",
    "# Generate sorted results\n",
    "results = generate_results(distance_matrix, distance_measure)\n",
    "\n",
    "# Calculate metrics\n",
    "mapk_val_1 = mapk(ground_truth, results, 1)\n",
    "mapk_val_5 = mapk(ground_truth, results, 5)\n",
    "\n",
    "print(\"MAPK@1:\", mapk_val_1, \"-- MAPK@5\", mapk_val_5)"
   ]
  },
  {
   "cell_type": "markdown",
   "id": "f1f36327",
   "metadata": {},
   "source": [
    "### Best parameters - denoised 1/2/3/4/5"
   ]
  },
  {
   "cell_type": "code",
   "execution_count": 10,
   "id": "aa7210a3",
   "metadata": {},
   "outputs": [
    {
     "name": "stdout",
     "output_type": "stream",
     "text": [
      "MAPK@1: 1.0 -- MAPK@5 1.0\n"
     ]
    }
   ],
   "source": [
    "# Images path\n",
    "query_folder = \"./data/denoised_5/\"\n",
    "bbdd_folder = \"./data/BBDD\"\n",
    "\n",
    "# Best parameters\n",
    "color = \"V\"\n",
    "distance_measure = \"Cosine\"\n",
    "block_size = 64\n",
    "num_coefs = 64\n",
    "\n",
    "# Load images\n",
    "query_images = load_and_preprocess_images(query_folder, extension=\".jpg\")\n",
    "bbdd_images = load_and_preprocess_images(bbdd_folder, extension=\".jpg\")\n",
    "\n",
    "# Load groundtruth\n",
    "gt_dir = os.path.join(query_folder, 'gt_corresps.pkl')\n",
    "with open(gt_dir, 'rb') as reader:\n",
    "    ground_truth = pickle.load(reader)\n",
    "\n",
    "# Transform color space of the images\n",
    "query_images_color = transform_images_color_space(query_images, color_space=color)\n",
    "bbdd_images_color = transform_images_color_space(bbdd_images, color_space=color)\n",
    "\n",
    "# Compute the DCT of the images\n",
    "query_dct_blocks = compute_images_block_dct(query_images_color, block_size)\n",
    "bbdd_dct_blocks = compute_images_block_dct(bbdd_images_color, block_size)\n",
    "\n",
    "# Extract first K coefficients of images DCTs\n",
    "query_feature_vectors = extract_dct_coefficients_zigzag(query_dct_blocks, num_coefs, block_size)\n",
    "bbdd_feature_vectors = extract_dct_coefficients_zigzag(bbdd_dct_blocks, num_coefs, block_size)\n",
    "\n",
    "# Calculate distance matrix\n",
    "distance_matrix = create_distance_matrix_vectors(query_feature_vectors, \n",
    "                                                 bbdd_feature_vectors,\n",
    "                                                 distance_measure)\n",
    "# Generate sorted results\n",
    "results = generate_results(distance_matrix, distance_measure)\n",
    "\n",
    "# Calculate metrics\n",
    "mapk_val_1 = mapk(ground_truth, results, 1)\n",
    "mapk_val_5 = mapk(ground_truth, results, 5)\n",
    "\n",
    "print(\"MAPK@1:\", mapk_val_1, \"-- MAPK@5\", mapk_val_5)"
   ]
  },
  {
   "cell_type": "markdown",
   "id": "e058c746",
   "metadata": {},
   "source": [
    "## LBP"
   ]
  },
  {
   "cell_type": "code",
   "execution_count": 8,
   "id": "7c29cab6",
   "metadata": {},
   "outputs": [],
   "source": [
    "import os\n",
    "import pickle\n",
    "import pandas as pd\n",
    "import argparse\n",
    "\n",
    "from src.utils.images import load_images_from_directory, transform_images_color_space, rescale_images\n",
    "from src.utils.distance_matrix import create_distance_matrix, generate_results\n",
    "from src.utils.ml_metrics import mapk\n",
    "from src.utils.LBP import compute_images_block_lbp, compute_images_block_multi_lbp"
   ]
  },
  {
   "cell_type": "markdown",
   "id": "9f8005da",
   "metadata": {},
   "source": [
    "### Best parameters - No noise (qsd1_w3/non_augmented)"
   ]
  },
  {
   "cell_type": "code",
   "execution_count": 24,
   "id": "35616736",
   "metadata": {},
   "outputs": [
    {
     "name": "stdout",
     "output_type": "stream",
     "text": [
      "MAPK@1: 1.0 -- MAPK@5 1.0\n"
     ]
    }
   ],
   "source": [
    "# Images path\n",
    "query_folder = \"./data/qsd1_w3/non_augmented/\"\n",
    "bbdd_folder = \"./data/BBDD\"\n",
    "\n",
    "# Best parameters\n",
    "color = \"L\"\n",
    "distance_measure = \"bhattacharyya\"\n",
    "method = \"default\"\n",
    "radius = 3\n",
    "points = 12\n",
    "num_blocks = 16\n",
    "\n",
    "# Load images\n",
    "query_images = load_images_from_directory(query_folder)\n",
    "bbdd_images = load_images_from_directory(bbdd_folder)\n",
    "\n",
    "# Load groundtruth\n",
    "gt_dir = os.path.join(query_folder, 'gt_corresps.pkl')\n",
    "with open(gt_dir, 'rb') as reader:\n",
    "    ground_truth = pickle.load(reader)\n",
    "\n",
    "# Transform color space\n",
    "query_images_color = transform_images_color_space(query_images, color_space=color)\n",
    "bbdd_images_color = transform_images_color_space(bbdd_images, color_space=color)\n",
    "\n",
    "# Rescale images\n",
    "query_images_color = rescale_images(query_images_color, (256, 256))\n",
    "bbdd_images_color = rescale_images(bbdd_images_color, (256, 256))\n",
    "\n",
    "# Compute LBP\n",
    "query_lbp_vectors = compute_images_block_lbp(query_images_color, radius, points, method, num_blocks)\n",
    "bbdd_lbp_vectors = compute_images_block_lbp(bbdd_images_color, radius, points, method, num_blocks)\n",
    "\n",
    "# Calculate distance matrix\n",
    "distance_matrix = create_distance_matrix(query_lbp_vectors, \n",
    "                                         bbdd_lbp_vectors,\n",
    "                                         distance_measure)\n",
    "# Generate sorted results\n",
    "results = generate_results(distance_matrix, distance_measure)\n",
    "\n",
    "# Calculate metrics\n",
    "mapk_val_1 = mapk(ground_truth, results, 1)\n",
    "mapk_val_5 = mapk(ground_truth, results, 5)\n",
    "\n",
    "print(\"MAPK@1:\", mapk_val_1, \"-- MAPK@5\", mapk_val_5)"
   ]
  },
  {
   "cell_type": "markdown",
   "id": "429379b2",
   "metadata": {},
   "source": [
    "### Best parameters - Noise (qsd1_w3/)"
   ]
  },
  {
   "cell_type": "code",
   "execution_count": 25,
   "id": "71a8c155",
   "metadata": {},
   "outputs": [
    {
     "name": "stdout",
     "output_type": "stream",
     "text": [
      "MAPK@1: 0.9 -- MAPK@5 0.9166666666666666\n"
     ]
    }
   ],
   "source": [
    "# Images path\n",
    "query_folder = \"./data/qsd1_w3/\"\n",
    "bbdd_folder = \"./data/BBDD\"\n",
    "\n",
    "# Best parameters\n",
    "color = \"L\"\n",
    "distance_measure = \"bhattacharyya\"\n",
    "method = \"default\"\n",
    "radius = 3\n",
    "points = 12\n",
    "num_blocks = 16\n",
    "\n",
    "# Load images\n",
    "query_images = load_images_from_directory(query_folder)\n",
    "bbdd_images = load_images_from_directory(bbdd_folder)\n",
    "\n",
    "# Load groundtruth\n",
    "gt_dir = os.path.join(query_folder, 'gt_corresps.pkl')\n",
    "with open(gt_dir, 'rb') as reader:\n",
    "    ground_truth = pickle.load(reader)\n",
    "\n",
    "# Transform color space\n",
    "query_images_color = transform_images_color_space(query_images, color_space=color)\n",
    "bbdd_images_color = transform_images_color_space(bbdd_images, color_space=color)\n",
    "\n",
    "# Rescale images\n",
    "query_images_color = rescale_images(query_images_color, (256, 256))\n",
    "bbdd_images_color = rescale_images(bbdd_images_color, (256, 256))\n",
    "\n",
    "# Compute LBP\n",
    "query_lbp_vectors = compute_images_block_lbp(query_images_color, radius, points, method, num_blocks)\n",
    "bbdd_lbp_vectors = compute_images_block_lbp(bbdd_images_color, radius, points, method, num_blocks)\n",
    "\n",
    "# Calculate distance matrix\n",
    "distance_matrix = create_distance_matrix(query_lbp_vectors, \n",
    "                                         bbdd_lbp_vectors,\n",
    "                                         distance_measure)\n",
    "# Generate sorted results\n",
    "results = generate_results(distance_matrix, distance_measure)\n",
    "\n",
    "# Calculate metrics\n",
    "mapk_val_1 = mapk(ground_truth, results, 1)\n",
    "mapk_val_5 = mapk(ground_truth, results, 5)\n",
    "\n",
    "print(\"MAPK@1:\", mapk_val_1, \"-- MAPK@5\", mapk_val_5)"
   ]
  },
  {
   "cell_type": "markdown",
   "id": "4e40079e",
   "metadata": {},
   "source": [
    "### Best parameters - No noise (qsd1_w3/non_augmented) - No rescale"
   ]
  },
  {
   "cell_type": "code",
   "execution_count": 26,
   "id": "64ca2540",
   "metadata": {},
   "outputs": [
    {
     "name": "stdout",
     "output_type": "stream",
     "text": [
      "MAPK@1: 0.5666666666666667 -- MAPK@5 0.6277777777777779\n"
     ]
    }
   ],
   "source": [
    "# Images path\n",
    "query_folder = \"./data/qsd1_w3/non_augmented/\"\n",
    "bbdd_folder = \"./data/BBDD\"\n",
    "\n",
    "# Best parameters\n",
    "color = \"L\"\n",
    "distance_measure = \"bhattacharyya\"\n",
    "method = \"default\"\n",
    "radius = 3\n",
    "points = 12\n",
    "num_blocks = 16\n",
    "\n",
    "# Load images\n",
    "query_images = load_images_from_directory(query_folder)\n",
    "bbdd_images = load_images_from_directory(bbdd_folder)\n",
    "\n",
    "# Load groundtruth\n",
    "gt_dir = os.path.join(query_folder, 'gt_corresps.pkl')\n",
    "with open(gt_dir, 'rb') as reader:\n",
    "    ground_truth = pickle.load(reader)\n",
    "\n",
    "# Transform color space\n",
    "query_images_color = transform_images_color_space(query_images, color_space=color)\n",
    "bbdd_images_color = transform_images_color_space(bbdd_images, color_space=color)\n",
    "\n",
    "# Rescale images\n",
    "# query_images_color = rescale_images(query_images_color, (256, 256))\n",
    "# bbdd_images_color = rescale_images(bbdd_images_color, (256, 256))\n",
    "\n",
    "# Compute LBP\n",
    "query_lbp_vectors = compute_images_block_lbp(query_images_color, radius, points, method, num_blocks)\n",
    "bbdd_lbp_vectors = compute_images_block_lbp(bbdd_images_color, radius, points, method, num_blocks)\n",
    "\n",
    "# Calculate distance matrix\n",
    "distance_matrix = create_distance_matrix(query_lbp_vectors, \n",
    "                                         bbdd_lbp_vectors,\n",
    "                                         distance_measure)\n",
    "# Generate sorted results\n",
    "results = generate_results(distance_matrix, distance_measure)\n",
    "\n",
    "# Calculate metrics\n",
    "mapk_val_1 = mapk(ground_truth, results, 1)\n",
    "mapk_val_5 = mapk(ground_truth, results, 5)\n",
    "\n",
    "print(\"MAPK@1:\", mapk_val_1, \"-- MAPK@5\", mapk_val_5)"
   ]
  },
  {
   "cell_type": "markdown",
   "id": "e9b70792",
   "metadata": {},
   "source": [
    "### Best parameters - denoised 1/2/3/4/5"
   ]
  },
  {
   "cell_type": "code",
   "execution_count": 15,
   "id": "34aaa970",
   "metadata": {},
   "outputs": [
    {
     "name": "stdout",
     "output_type": "stream",
     "text": [
      "MAPK@1: 0.9333333333333333 -- MAPK@5 0.9333333333333333\n"
     ]
    }
   ],
   "source": [
    "# Images path\n",
    "query_folder = \"./data/denoised_5/\"\n",
    "bbdd_folder = \"./data/BBDD\"\n",
    "\n",
    "# Best parameters\n",
    "color = \"L\"\n",
    "distance_measure = \"bhattacharyya\"\n",
    "method = \"default\"\n",
    "radius = 3\n",
    "points = 12\n",
    "num_blocks = 16\n",
    "\n",
    "# Load images\n",
    "query_images = load_images_from_directory(query_folder)\n",
    "bbdd_images = load_images_from_directory(bbdd_folder)\n",
    "\n",
    "# Load groundtruth\n",
    "gt_dir = os.path.join(query_folder, 'gt_corresps.pkl')\n",
    "with open(gt_dir, 'rb') as reader:\n",
    "    ground_truth = pickle.load(reader)\n",
    "\n",
    "# Transform color space\n",
    "query_images_color = transform_images_color_space(query_images, color_space=color)\n",
    "bbdd_images_color = transform_images_color_space(bbdd_images, color_space=color)\n",
    "\n",
    "# Rescale images\n",
    "query_images_color = rescale_images(query_images_color, (256, 256))\n",
    "bbdd_images_color = rescale_images(bbdd_images_color, (256, 256))\n",
    "\n",
    "# Compute LBP\n",
    "query_lbp_vectors = compute_images_block_lbp(query_images_color, radius, points, method, num_blocks)\n",
    "bbdd_lbp_vectors = compute_images_block_lbp(bbdd_images_color, radius, points, method, num_blocks)\n",
    "\n",
    "# Calculate distance matrix\n",
    "distance_matrix = create_distance_matrix(query_lbp_vectors, \n",
    "                                         bbdd_lbp_vectors,\n",
    "                                         distance_measure)\n",
    "# Generate sorted results\n",
    "results = generate_results(distance_matrix, distance_measure)\n",
    "\n",
    "# Calculate metrics\n",
    "mapk_val_1 = mapk(ground_truth, results, 1)\n",
    "mapk_val_5 = mapk(ground_truth, results, 5)\n",
    "\n",
    "print(\"MAPK@1:\", mapk_val_1, \"-- MAPK@5\", mapk_val_5)"
   ]
  },
  {
   "cell_type": "code",
   "execution_count": null,
   "id": "f53ae95a",
   "metadata": {},
   "outputs": [],
   "source": []
  }
 ],
 "metadata": {
  "kernelspec": {
   "display_name": "Python 3",
   "language": "python",
   "name": "python3"
  },
  "language_info": {
   "codemirror_mode": {
    "name": "ipython",
    "version": 3
   },
   "file_extension": ".py",
   "mimetype": "text/x-python",
   "name": "python",
   "nbconvert_exporter": "python",
   "pygments_lexer": "ipython3",
   "version": "3.8.8"
  }
 },
 "nbformat": 4,
 "nbformat_minor": 5
}
