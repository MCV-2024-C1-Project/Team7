{
 "cells": [
  {
   "cell_type": "markdown",
   "id": "bc658124",
   "metadata": {},
   "source": [
    "# Keypoint descriptor methods general comparison"
   ]
  },
  {
   "cell_type": "markdown",
   "id": "75453ba7",
   "metadata": {},
   "source": [
    "The main function, `get_predictions()`, is executed with the different combinations of methods available with default parameters."
   ]
  },
  {
   "cell_type": "markdown",
   "id": "0382e88a",
   "metadata": {},
   "source": [
    "The tests are performed with the **QSD1_W2 dataset**."
   ]
  },
  {
   "cell_type": "markdown",
   "id": "2f970898",
   "metadata": {},
   "source": [
    "### Imports"
   ]
  },
  {
   "cell_type": "code",
   "execution_count": null,
   "id": "340356ba",
   "metadata": {},
   "outputs": [],
   "source": [
    "import os\n",
    "import cv2\n",
    "import numpy as np\n",
    "import tqdm as tqdm\n",
    "import pickle\n",
    "import time\n",
    "from sklearn.metrics import f1_score\n",
    "\n",
    "from src.utils.images import load_images_from_directory\n",
    "from src.utils.keypoint_descriptors import *\n",
    "from src.utils.ml_metrics import mapk"
   ]
  },
  {
   "cell_type": "markdown",
   "id": "31b4ac6b",
   "metadata": {},
   "source": [
    "### Constants"
   ]
  },
  {
   "cell_type": "code",
   "execution_count": null,
   "id": "935b5930",
   "metadata": {},
   "outputs": [],
   "source": [
    "# Image folders\n",
    "query_dir = \"./data/qsd1_w2/\"\n",
    "bbdd_dir = \"./data/BBDD\""
   ]
  },
  {
   "cell_type": "markdown",
   "id": "19edc23e",
   "metadata": {},
   "source": [
    "### Helper functions"
   ]
  },
  {
   "cell_type": "code",
   "execution_count": null,
   "id": "1be16265",
   "metadata": {},
   "outputs": [],
   "source": [
    "def lowe_ratio_test(knn_matches, ratio_threshold):\n",
    "    \"\"\"\n",
    "    Applies Lowe's ratio test to filter out poor matches from k-nearest neighbors (k-NN) match results.\n",
    "\n",
    "    Args:\n",
    "        knn_matches (list of tuples): A list of tuples where each tuple contains two matches (m, n).\n",
    "            - `m` and `n` are typically objects with a `distance` attribute, representing the \n",
    "              distance between matched features.\n",
    "        ratio_threshold (float): The threshold ratio to determine if a match is good. A smaller \n",
    "            ratio is more strict and filters out more matches.\n",
    "\n",
    "    Returns:\n",
    "        list: A list of good matches that pass Lowe's ratio test. Each match in the list is from \n",
    "        the first element of the tuple `m` in `knn_matches` that satisfies the ratio test.\n",
    "    \"\"\"\n",
    "    good_matches = []\n",
    "    for match_pair in knn_matches:\n",
    "        if len(match_pair) >= 2:\n",
    "            m, n = match_pair[0], match_pair[1]\n",
    "            if m.distance < ratio_threshold * n.distance:\n",
    "                good_matches.append(m)\n",
    "    \n",
    "    return good_matches\n",
    "\n",
    "\n",
    "def function_time_count(function, params):\n",
    "\n",
    "    \"\"\"\n",
    "    Measures the execution time of a given function and returns both the \n",
    "    time taken and the function's result.\n",
    "\n",
    "    Args:\n",
    "        function (callable): The function to be executed.\n",
    "        params (list): A tuple of parameters to pass to the function.\n",
    "\n",
    "    Returns:\n",
    "    - tuple: A tuple containing:\n",
    "        - total_time (float): The time taken to execute the function, in seconds.\n",
    "        - results: The output of the executed function.\n",
    "    \"\"\"\n",
    "\n",
    "    start = time.time()\n",
    "    results = function(*params)\n",
    "    end = time.time()\n",
    "    total_time = end-start\n",
    "\n",
    "    return total_time, results\n",
    "\n",
    "\n",
    "def get_key_des_multi_image(images_list, method):\n",
    "    \"\"\"\n",
    "    Identifies keypoints and calculates descriptors for each image in\n",
    "    a list of loaded images using the specified method.\n",
    "    \n",
    "    Args:\n",
    "    - images_list (list of ndarray): list of loaded images\n",
    "    - method (str): method to use to extract the keypoints and descriptors\n",
    "    \n",
    "    Returns:\n",
    "    - key_des_list (list of dictionaries): list of dictionaries, each\n",
    "                    dictionary containing the keypoints and descriptors\n",
    "                    for each image.\n",
    "    \"\"\"\n",
    "    \n",
    "    if method==\"SIFT\":\n",
    "        key_des_list = get_SIFT_key_des_multi_image(images_list)\n",
    "    \n",
    "    elif method==\"ORB\":\n",
    "        key_des_list = get_ORB_key_des_multi_image(images_list)\n",
    "        \n",
    "    elif method==\"AKAZE\":\n",
    "        key_des_list = get_AKAZE_key_des_multi_image(images_list)\n",
    "        \n",
    "    elif method==\"Harris-SIFT\":\n",
    "        key_des_list = get_key_des_wildcard_multi_image(images_list, get_Harris_key, get_SIFT_descriptors)\n",
    "    \n",
    "    elif method==\"Harris-ORB\":\n",
    "        key_des_list = get_key_des_wildcard_multi_image(images_list, get_Harris_key, get_ORB_descriptors)\n",
    "\n",
    "    elif method==\"Harris-AKAZE\":\n",
    "        key_des_list = get_key_des_wildcard_multi_image(images_list, get_Harris_key, get_AKAZE_descriptors)\n",
    "    \n",
    "    elif method==\"HarrisLaplacian-SIFT\":\n",
    "        key_des_list = get_key_des_wildcard_multi_image(images_list, get_Harris_Laplacian_keypoints, get_SIFT_descriptors)\n",
    "    \n",
    "    elif method==\"HarrisLaplacian-ORB\":\n",
    "        key_des_list = get_key_des_wildcard_multi_image(images_list, get_Harris_Laplacian_keypoints, get_ORB_descriptors)\n",
    "    \n",
    "    elif method==\"HarrisLaplacian-AKAZE\":\n",
    "        key_des_list = get_key_des_wildcard_multi_image(images_list, get_Harris_Laplacian_keypoints, get_AKAZE_descriptors)\n",
    "    \n",
    "    return key_des_list\n",
    "\n",
    "def get_num_matching_descriptors(descriptors_image_1, descriptors_image_2, method, descr_method, params=[]):\n",
    "    \"\"\"\n",
    "    Matches descriptors between two images using either Brute-Force or FLANN-based matching.\n",
    "\n",
    "    Parameters:\n",
    "        descriptors_image_1: ndarray\n",
    "            Descriptors from the first image.\n",
    "        descriptors_image_2: ndarray\n",
    "            Descriptors from the second image.\n",
    "        method: str\n",
    "            Matching method to use. Options:\n",
    "            - \"BruteForce\": Uses Brute-Force matcher.\n",
    "            - \"FLANN\": Uses FLANN-based matcher.\n",
    "        descr_method: str\n",
    "            Descriptor method used for extracting features. Options:\n",
    "            - \"SIFT\": Uses floating-point descriptors.\n",
    "            - \"ORB\", \"AKAZE\": Use binary descriptors.\n",
    "        params: list, optional\n",
    "            Additional parameters depending on the method:\n",
    "            - For \"BruteForce\":\n",
    "                params[0]: int\n",
    "                    Norm type (default: cv2.NORM_L2 for SIFT, cv2.NORM_HAMMING for ORB/AKAZE).\n",
    "                params[1]: bool\n",
    "                    Whether to use crossCheck (default = False).\n",
    "            - For \"FLANN\":\n",
    "                params[0]: dict\n",
    "                    Index parameters.\n",
    "                params[1]: dict\n",
    "                    Search parameters.\n",
    "                params[2]: int\n",
    "                    Number of nearest neighbors (k) (default: 5).\n",
    "                params[3]: float\n",
    "                    Lowe's ratio for filtering matches (default: 0.7).\n",
    "\n",
    "    Returns:\n",
    "    - tuple:\n",
    "        - matches: list\n",
    "            List of matched descriptors.\n",
    "        - num_matches: int\n",
    "            The number of matches found.\n",
    "\n",
    "    Notes:\n",
    "    - BruteForce:\n",
    "        - Uses Euclidean distance for SIFT.\n",
    "        - Uses Hamming distance for ORB and AKAZE.\n",
    "    - FLANN:\n",
    "        - Uses KDTree for SIFT.\n",
    "        - Uses LSH for ORB and AKAZE.\n",
    "        - Applies Lowe's ratio test for FLANN-based matches.\n",
    "    \"\"\"\n",
    "    if method == \"BruteForce\":\n",
    "        if descr_method in [\"SIFT\", \"Harris-SIFT\", \"HarrisLaplacian-SIFT\"]:\n",
    "            if params:\n",
    "                norm = params[0]\n",
    "                crossCheck = params[1]\n",
    "            else:\n",
    "                norm = cv2.NORM_L2\n",
    "                crossCheck = False\n",
    "\n",
    "        elif descr_method in [\"ORB\",\"AKAZE\", \"Harris-ORB\", \"Harris-AKAZE\", \"HarrisLaplacian-ORB\", \"HarrisLaplacian-AKAZE\"]:\n",
    "            if params:\n",
    "                norm = params[0]\n",
    "                crossCheck = params[1]\n",
    "            else:\n",
    "                norm = cv2.NORM_HAMMING\n",
    "                crossCheck = False\n",
    "        else:\n",
    "            norm = cv2.NORM_HAMMING\n",
    "            crossCheck = True\n",
    "\n",
    "        matcher = cv2.BFMatcher(norm, crossCheck)\n",
    "        matches = matcher.match(descriptors_image_1, descriptors_image_2)\n",
    "        num_matches = len(matches)\n",
    "\n",
    "    elif method == \"FLANN\":\n",
    "        if descr_method == [\"SIFT\", \"Harris-SIFT\", \"HarrisLaplacian-SIFT\"]:\n",
    "            if params:\n",
    "                index_params = params[0]\n",
    "                search_params = params[1]\n",
    "                k = params[2]\n",
    "                ratio = params[3]\n",
    "            else:\n",
    "                index_params = dict(algorithm=1, trees=5)\n",
    "                search_params = dict(checks=50)\n",
    "                k = 2\n",
    "                ratio = 0.7\n",
    "\n",
    "        elif descr_method in [\"ORB\",\"AKAZE\", \"Harris-ORB\", \"Harris-AKAZE\", \"HarrisLaplacian-ORB\", \"HarrisLaplacian-AKAZE\"]:\n",
    "            if params:\n",
    "                index_params = params[0]\n",
    "                search_params = params[1]\n",
    "                k = params[2]\n",
    "                ratio = params[3]\n",
    "            else:\n",
    "                index_params = dict(algorithm=6, table_number=6, key_size=12, multi_probe_level=1)\n",
    "                search_params = dict(checks=50)\n",
    "                k = 2\n",
    "                ratio = 0.7\n",
    "        else:\n",
    "            index_params = dict(algorithm=1, trees=5)\n",
    "            search_params = dict(checks=50)\n",
    "            k = 2\n",
    "            ratio = 0.7\n",
    "        \n",
    "        matcher = cv2.FlannBasedMatcher(index_params, search_params)\n",
    "        knn_matches = matcher.knnMatch(descriptors_image_1, descriptors_image_2, k)\n",
    "        matches = lowe_ratio_test(knn_matches, ratio)\n",
    "        num_matches = len(matches)\n",
    "\n",
    "    return matches, num_matches"
   ]
  },
  {
   "cell_type": "markdown",
   "id": "0863808a",
   "metadata": {},
   "source": [
    "### Main function"
   ]
  },
  {
   "cell_type": "code",
   "execution_count": null,
   "id": "6cb29d3c",
   "metadata": {},
   "outputs": [],
   "source": [
    "def get_predictions(query_dir, bbdd_dir, method, matching_method, matching_params=[]):\n",
    "\n",
    "    # EXTRACT LOCAL FEATURES (KEYPOINT DESCRIPTORS) FROM\n",
    "    # DENOISED QUERIES AND BBDD\n",
    "    # =======================================================================================\n",
    "\n",
    "    # Load denoised query paintings and bbdd images\n",
    "    query_images = load_images_from_directory(query_dir)\n",
    "    bbdd_images = load_images_from_directory(bbdd_dir)\n",
    "\n",
    "    # Extract keypoints and descriptors\n",
    "    query_key_des_list = get_key_des_multi_image(query_images, method)\n",
    "    bbdd_key_des_list = get_key_des_multi_image(bbdd_images, method)\n",
    "    \n",
    "    \n",
    "    # GET PREDICTIONS USING MATCHING DESCRIPTORS\n",
    "    # =======================================================================================\n",
    "    \n",
    "    # Results matrix\n",
    "    results = []\n",
    "    \n",
    "    # For each query\n",
    "    for query_image in tqdm(query_key_des_list, desc=\"Matching descriptors\"):\n",
    "        \n",
    "        # Get matching descriptors from each bbdd image\n",
    "        num_matching_descriptors_list = []\n",
    "        for bbdd_image in bbdd_key_des_list:\n",
    "            \n",
    "            # There must be at least one descriptor in the bbdd image\n",
    "            if str(bbdd_image['descriptors'])!=\"None\":\n",
    "                _, num_matching_descriptors = get_num_matching_descriptors(query_image['descriptors'],\n",
    "                                                                           bbdd_image['descriptors'],\n",
    "                                                                           method=matching_method,\n",
    "                                                                           descr_method=method,\n",
    "                                                                           params=matching_params)\n",
    "            else:\n",
    "                num_matching_descriptors = 0\n",
    "                \n",
    "            num_matching_descriptors_list.append(num_matching_descriptors)\n",
    "            \n",
    "        # Append sorted list of predictions to results list\n",
    "        results.append(np.argsort(num_matching_descriptors_list)[::-1])\n",
    "    \n",
    "    return results"
   ]
  },
  {
   "cell_type": "markdown",
   "id": "ca7df57c",
   "metadata": {},
   "source": [
    "### Loading the groundtruth"
   ]
  },
  {
   "cell_type": "code",
   "execution_count": null,
   "id": "0cbda5a8",
   "metadata": {},
   "outputs": [],
   "source": [
    "# Load groundtruth\n",
    "with open('./data/qsd1_w2/gt_corresps.pkl', 'rb') as f:\n",
    "    ground_truth = pickle.load(f)"
   ]
  },
  {
   "cell_type": "markdown",
   "id": "9c4914a6",
   "metadata": {},
   "source": [
    "### Full results list"
   ]
  },
  {
   "cell_type": "code",
   "execution_count": null,
   "id": "ba112105",
   "metadata": {},
   "outputs": [],
   "source": [
    "# Store all the results here\n",
    "full_results = []"
   ]
  },
  {
   "cell_type": "markdown",
   "id": "4676f159",
   "metadata": {},
   "source": [
    "### Method testing"
   ]
  },
  {
   "cell_type": "markdown",
   "id": "a095ed4e",
   "metadata": {},
   "source": [
    "#### Methods that execute correctly"
   ]
  },
  {
   "cell_type": "code",
   "execution_count": null,
   "id": "df20941d",
   "metadata": {},
   "outputs": [],
   "source": [
    "method = \"ORB\"\n",
    "matching_method = \"BruteForce\"\n",
    "matching_params = [cv2.NORM_HAMMING, True]\n",
    "\n",
    "exec_time, orb_results = function_time_count(get_predictions, (query_dir, bbdd_dir, method, matching_method, matching_params))\n",
    "\n",
    "orb_info = {}\n",
    "orb_info['execution_time'] = exec_time\n",
    "orb_info['MAPK@1'] = mapk(ground_truth, orb_results, k=1)\n",
    "orb_info['MAPK@5'] = mapk(ground_truth, orb_results, k=5)\n",
    "\n",
    "full_results.append({\"ORB\": orb_info})"
   ]
  },
  {
   "cell_type": "code",
   "execution_count": null,
   "id": "fb21e2cc",
   "metadata": {},
   "outputs": [],
   "source": [
    "method = \"AKAZE\"\n",
    "matching_method = \"BruteForce\"\n",
    "matching_params = [cv2.NORM_HAMMING, True]\n",
    "\n",
    "exec_time, akaze_results = function_time_count(get_predictions, (query_dir, bbdd_dir, method, matching_method, matching_params))\n",
    "\n",
    "akaze_info = {}\n",
    "akaze_info['execution_time'] = exec_time\n",
    "akaze_info['MAPK@1'] = mapk(ground_truth, akaze_results, k=1)\n",
    "akaze_info['MAPK@5'] = mapk(ground_truth, akaze_results, k=5)\n",
    "\n",
    "full_results.append({\"AKAZE\": akaze_info})"
   ]
  },
  {
   "cell_type": "code",
   "execution_count": null,
   "id": "2f73de43",
   "metadata": {},
   "outputs": [],
   "source": [
    "method = \"HarrisLaplacian-ORB\"\n",
    "matching_method = \"BruteForce\"\n",
    "matching_params = [cv2.NORM_HAMMING, True]\n",
    "\n",
    "exec_time, hl_orb_results = function_time_count(get_predictions, (query_dir, bbdd_dir, method, matching_method, matching_params))\n",
    "\n",
    "hl_orb_info = {}\n",
    "hl_orb_info['execution_time'] = exec_time\n",
    "hl_orb_info['MAPK@1'] = mapk(ground_truth, hl_orb_results, k=1)\n",
    "hl_orb_info['MAPK@5'] = mapk(ground_truth, hl_orb_results, k=5)\n",
    "\n",
    "full_results.append({\"HL-ORB\": hl_orb_info})"
   ]
  },
  {
   "cell_type": "code",
   "execution_count": null,
   "id": "32be48f6",
   "metadata": {},
   "outputs": [],
   "source": [
    "method = \"HarrisLaplacian-ORB\"\n",
    "matching_method = \"FLANN\"\n",
    "matching_params = []\n",
    "\n",
    "exec_time, hl_orb_flann_results = function_time_count(get_predictions, (query_dir, bbdd_dir, method, matching_method, matching_params))\n",
    "\n",
    "hl_orb_flann_info = {}\n",
    "hl_orb_flann_info['execution_time'] = exec_time\n",
    "hl_orb_flann_info['MAPK@1'] = mapk(ground_truth, hl_orb_flann_results, k=1)\n",
    "hl_orb_flann_info['MAPK@5'] = mapk(ground_truth, hl_orb_flann_results, k=5)\n",
    "\n",
    "full_results.append({\"HL-ORB-FLANN\": hl_orb_flann_info})"
   ]
  },
  {
   "cell_type": "code",
   "execution_count": null,
   "id": "ae950e1d",
   "metadata": {
    "scrolled": true
   },
   "outputs": [],
   "source": [
    "method = \"SIFT\"\n",
    "matching_method = \"FLANN\"\n",
    "matching_params = []\n",
    "\n",
    "exec_time, sift_flann_results = function_time_count(get_predictions, (query_dir, bbdd_dir, method, matching_method, matching_params))\n",
    "\n",
    "sift_flann_info = {}\n",
    "sift_flann_info['execution_time'] = exec_time\n",
    "sift_flann_info['MAPK@1'] = mapk(ground_truth, sift_flann_results, k=1)\n",
    "sift_flann_info['MAPK@5'] = mapk(ground_truth, sift_flann_results, k=5)\n",
    "\n",
    "full_results.append({\"SIFT_FLANN\": sift_flann_info})"
   ]
  },
  {
   "cell_type": "code",
   "execution_count": null,
   "id": "264afb8b",
   "metadata": {},
   "outputs": [],
   "source": [
    "method = \"ORB\"\n",
    "matching_method = \"FLANN\"\n",
    "matching_params = []\n",
    "\n",
    "exec_time, orb_flann_results = function_time_count(get_predictions, (query_dir, bbdd_dir, method, matching_method, matching_params))\n",
    "\n",
    "orb_flann_info = {}\n",
    "orb_flann_info['execution_time'] = exec_time\n",
    "orb_flann_info['MAPK@1'] = mapk(ground_truth, orb_flann_results, k=1)\n",
    "orb_flann_info['MAPK@5'] = mapk(ground_truth, orb_flann_results, k=5)\n",
    "\n",
    "full_results.append({\"ORB-FLANN\": orb_flann_info})"
   ]
  },
  {
   "cell_type": "code",
   "execution_count": null,
   "id": "fc6bd729",
   "metadata": {},
   "outputs": [],
   "source": [
    "method = \"Harris-ORB\"\n",
    "matching_method = \"FLANN\"\n",
    "matching_params = []\n",
    "\n",
    "exec_time, h_orb_flann_results = function_time_count(get_predictions, (query_dir, bbdd_dir, method, matching_method, matching_params))\n",
    "\n",
    "h_orb_flann_info = {}\n",
    "h_orb_flann_info['execution_time'] = exec_time\n",
    "h_orb_flann_info['MAPK@1'] = mapk(ground_truth, h_orb_flann_results, k=1)\n",
    "h_orb_flann_info['MAPK@5'] = mapk(ground_truth, h_orb_flann_results, k=5)\n",
    "\n",
    "full_results.append({\"H-ORB-FLANN\": h_orb_flann_info})"
   ]
  },
  {
   "cell_type": "code",
   "execution_count": null,
   "id": "b6319c21",
   "metadata": {},
   "outputs": [],
   "source": [
    "method = \"Harris-SIFT\"\n",
    "matching_method = \"FLANN\"\n",
    "matching_params = []\n",
    "\n",
    "exec_time, h_sift_flann_results = function_time_count(get_predictions, (query_dir, bbdd_dir, method, matching_method, matching_params))\n",
    "\n",
    "h_sift_flann_info = {}\n",
    "h_sift_flann_info['execution_time'] = exec_time\n",
    "h_sift_flann_info['MAPK@1'] = mapk(ground_truth, h_sift_flann_results, k=1)\n",
    "h_sift_flann_info['MAPK@5'] = mapk(ground_truth, h_sift_flann_results, k=5)\n",
    "\n",
    "full_results.append({\"H-SIFT-FLANN\": h_sift_flann_info})"
   ]
  },
  {
   "cell_type": "code",
   "execution_count": null,
   "id": "9470ba17",
   "metadata": {},
   "outputs": [],
   "source": [
    "method = \"HarrisLaplacian-SIFT\"\n",
    "matching_method = \"FLANN\"\n",
    "matching_params = []\n",
    "\n",
    "exec_time, hl_sift_flann_results = function_time_count(get_predictions, (query_dir, bbdd_dir, method, matching_method, matching_params))\n",
    "\n",
    "hl_sift_flann_info = {}\n",
    "hl_sift_flann_info['execution_time'] = exec_time\n",
    "hl_sift_flann_info['MAPK@1'] = mapk(ground_truth, hl_sift_flann_results, k=1)\n",
    "hl_sift_flann_info['MAPK@5'] = mapk(ground_truth, hl_sift_flann_results, k=5)\n",
    "\n",
    "full_results.append({\"HL-SIFT\": hl_sift_flann_info})"
   ]
  },
  {
   "cell_type": "code",
   "execution_count": null,
   "id": "595b9962",
   "metadata": {},
   "outputs": [],
   "source": [
    "method = \"ORB\"\n",
    "matching_method = \"FLANN\"\n",
    "matching_params = [dict(algorithm=6, table_number=6, key_size=12, multi_probe_level=1), \n",
    "                   dict(checks=50), 2, 0.8]\n",
    "\n",
    "exec_time, orb_flann_results = function_time_count(get_predictions, (query_dir, bbdd_dir, method, matching_method, matching_params))\n",
    "\n",
    "orb_flann_info = {}\n",
    "orb_flann_info['execution_time'] = exec_time\n",
    "orb_flann_info['MAPK@1'] = mapk(ground_truth, orb_flann_results, k=1)\n",
    "orb_flann_info['MAPK@5'] = mapk(ground_truth, orb_flann_results, k=5)\n",
    "\n",
    "full_results.append({\"ORB-FLANN\": orb_flann_info})"
   ]
  },
  {
   "cell_type": "markdown",
   "id": "e6755013",
   "metadata": {},
   "source": [
    "#### Methods that don't execute correctly"
   ]
  },
  {
   "cell_type": "code",
   "execution_count": null,
   "id": "f70a2b7a",
   "metadata": {},
   "outputs": [],
   "source": [
    "method = \"Harris-ORB\"\n",
    "matching_method = \"BruteForce\"\n",
    "matching_params = [cv2.NORM_HAMMING, True]\n",
    "\n",
    "exec_time, h_orb_results = function_time_count(get_predictions, (query_dir, bbdd_dir, method, matching_method, matching_params))\n",
    "\n",
    "h_orb_info = {}\n",
    "h_orb_info['execution_time'] = exec_time\n",
    "h_orb_info['MAPK@1'] = mapk(ground_truth, h_orb_results, k=1)\n",
    "h_orb_info['MAPK@5'] = mapk(ground_truth, h_orb_results, k=5)\n",
    "\n",
    "full_results.append({\"H-ORB\": h_orb_info})"
   ]
  },
  {
   "cell_type": "code",
   "execution_count": null,
   "id": "b9c529f1",
   "metadata": {},
   "outputs": [],
   "source": [
    "method = \"Harris-AKAZE\"\n",
    "matching_method = \"BruteForce\"\n",
    "matching_params = [cv2.NORM_HAMMING, True]\n",
    "\n",
    "exec_time, h_akaze_results = function_time_count(get_predictions, (query_dir, bbdd_dir, method, matching_method, matching_params))\n",
    "\n",
    "h_akaze_info = {}\n",
    "h_akaze_info['execution_time'] = exec_time\n",
    "h_akaze_info['MAPK@1'] = mapk(ground_truth, h_akaze_results, k=1)\n",
    "h_akaze_info['MAPK@5'] = mapk(ground_truth, h_akaze_results, k=5)\n",
    "\n",
    "full_results.append({\"H-AKAZE\": h_akaze_info})"
   ]
  },
  {
   "cell_type": "code",
   "execution_count": null,
   "id": "86b7affb",
   "metadata": {
    "scrolled": true
   },
   "outputs": [],
   "source": [
    "method = \"AKAZE\"\n",
    "matching_method = \"FLANN\"\n",
    "matching_params = []\n",
    "\n",
    "exec_time, akaze_flann_results = function_time_count(get_predictions, (query_dir, bbdd_dir, method, matching_method, matching_params))\n",
    "\n",
    "akaze__flann_info = {}\n",
    "akaze_flann_info['execution_time'] = exec_time\n",
    "akaze_flann_info['MAPK@1'] = mapk(ground_truth, akaze_flann_results, k=1)\n",
    "akaze_flann_info['MAPK@5'] = mapk(ground_truth, akaze_flann_results, k=5)\n",
    "\n",
    "full_results.append({\"AKAZE_FLANN\": akaze_flann_info})"
   ]
  },
  {
   "cell_type": "code",
   "execution_count": null,
   "id": "b180d1e3",
   "metadata": {},
   "outputs": [],
   "source": [
    "method = \"Harris-AKAZE\"\n",
    "matching_method = \"FLANN\"\n",
    "matching_params = []\n",
    "\n",
    "exec_time, h_akaze_flann_results = function_time_count(get_predictions, (query_dir, bbdd_dir, method, matching_method, matching_params))\n",
    "\n",
    "h_akaze_flann_info = {}\n",
    "h_akaze_flann_info['execution_time'] = exec_time\n",
    "h_akaze_flann_info['MAPK@1'] = mapk(ground_truth, h_akaze_flann_results, k=1)\n",
    "h_akaze_flann_info['MAPK@5'] = mapk(ground_truth, h_akaze_flann_results, k=5)\n",
    "\n",
    "full_results.append({\"H-AKAZE-FLANN\": h_akaze_flann_info})"
   ]
  },
  {
   "cell_type": "code",
   "execution_count": null,
   "id": "1beb02e8",
   "metadata": {},
   "outputs": [],
   "source": [
    "method = \"HarrisLaplacian-AKAZE\"\n",
    "matching_method = \"BruteForce\"\n",
    "matching_params = [cv2.NORM_HAMMING, True]\n",
    "\n",
    "exec_time, hl_akaze_results = function_time_count(get_predictions, (query_dir, bbdd_dir, method, matching_method, matching_params))\n",
    "\n",
    "hl_akaze_info = {}\n",
    "hl_akaze_info['execution_time'] = exec_time\n",
    "hl_akaze_info['MAPK@1'] = mapk(ground_truth, hl_akaze_results, k=1)\n",
    "hl_akaze_info['MAPK@5'] = mapk(ground_truth, hl_akaze_results, k=5)\n",
    "\n",
    "full_results.append({\"HL-AKAZE\": hl_akaze_info})"
   ]
  },
  {
   "cell_type": "code",
   "execution_count": null,
   "id": "deb69857",
   "metadata": {},
   "outputs": [],
   "source": [
    "method = \"HarrisLaplacian-AKAZE\"\n",
    "matching_method = \"FLANN\"\n",
    "matching_params = []\n",
    "\n",
    "exec_time, hl_akaze_flann_results = function_time_count(get_predictions, (query_dir, bbdd_dir, method, matching_method, matching_params))"
   ]
  },
  {
   "cell_type": "code",
   "execution_count": null,
   "id": "413cbe5e",
   "metadata": {},
   "outputs": [],
   "source": [
    "method = \"Harris-SIFT\"\n",
    "matching_method = \"BruteForce\"\n",
    "matching_params = [cv2.NORM_HAMMING, True]\n",
    "\n",
    "exec_time, h_sift_results = function_time_count(get_predictions, (query_dir, bbdd_dir, method, matching_method, matching_params))\n",
    "\n",
    "h_sift_info = {}\n",
    "h_sift_info['execution_time'] = exec_time\n",
    "h_sift_info['MAPK@1'] = mapk(ground_truth, h_sift_results, k=1)\n",
    "h_sift_info['MAPK@5'] = mapk(ground_truth, h_sift_results, k=5)\n",
    "\n",
    "full_results.append({\"H-SIFT\": h_sift_info})"
   ]
  },
  {
   "cell_type": "code",
   "execution_count": null,
   "id": "d6fb7007",
   "metadata": {},
   "outputs": [],
   "source": [
    "method = \"HarrisLaplacian-SIFT\"\n",
    "matching_method = \"BruteForce\"\n",
    "matching_params = [cv2.NORM_HAMMING, True]\n",
    "\n",
    "exec_time, hl_sift_results = function_time_count(get_predictions, (query_dir, bbdd_dir, method, matching_method, matching_params))\n",
    "\n",
    "hl_sift_info = {}\n",
    "hl_sift_info['execution_time'] = exec_time\n",
    "hl_sift_info['MAPK@1'] = mapk(ground_truth, hl_sift_results, k=1)\n",
    "hl_sift_info['MAPK@5'] = mapk(ground_truth, hl_sift_results, k=5)\n",
    "\n",
    "full_results.append({\"HL-SIFT\": hl_sift_info})"
   ]
  },
  {
   "cell_type": "markdown",
   "id": "7e10ccf1",
   "metadata": {},
   "source": [
    "#### Methods that are too computationally costly"
   ]
  },
  {
   "cell_type": "code",
   "execution_count": null,
   "id": "85adf8b9",
   "metadata": {},
   "outputs": [],
   "source": [
    "method = \"SIFT\"\n",
    "matching_method = \"BruteForce\"\n",
    "matching_params = [cv2.NORM_L2, True]\n",
    "\n",
    "exec_time, sift_results = function_time_count(get_predictions, (query_dir, bbdd_dir, method, matching_method, matching_params))\n",
    "\n",
    "sift_info = {}\n",
    "sift_info['execution_time'] = exec_time\n",
    "sift_info['MAPK@1'] = mapk(ground_truth, sift_results, k=1)\n",
    "sift_info['MAPK@5'] = mapk(ground_truth, sift_results, k=5)\n",
    "\n",
    "full_results.append({\"SIFT\": sift_info})"
   ]
  }
 ],
 "metadata": {
  "kernelspec": {
   "display_name": "Python 3",
   "language": "python",
   "name": "python3"
  },
  "language_info": {
   "codemirror_mode": {
    "name": "ipython",
    "version": 3
   },
   "file_extension": ".py",
   "mimetype": "text/x-python",
   "name": "python",
   "nbconvert_exporter": "python",
   "pygments_lexer": "ipython3",
   "version": "3.8.8"
  }
 },
 "nbformat": 4,
 "nbformat_minor": 5
}
